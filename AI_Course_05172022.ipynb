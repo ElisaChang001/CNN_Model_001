{
  "nbformat": 4,
  "nbformat_minor": 0,
  "metadata": {
    "colab": {
      "name": "PMtask_05172022.ipynb",
      "provenance": [],
      "authorship_tag": "ABX9TyO6wNwJi2J5/yF/ca60m8bG",
      "include_colab_link": true
    },
    "kernelspec": {
      "name": "python3",
      "display_name": "Python 3"
    },
    "language_info": {
      "name": "python"
    }
  },
  "cells": [
    {
      "cell_type": "markdown",
      "metadata": {
        "id": "view-in-github",
        "colab_type": "text"
      },
      "source": [
        "<a href=\"https://colab.research.google.com/github/HelloMina001/CNN_Model_001/blob/master/AI_Course_05172022.ipynb\" target=\"_parent\"><img src=\"https://colab.research.google.com/assets/colab-badge.svg\" alt=\"Open In Colab\"/></a>"
      ]
    },
    {
      "cell_type": "code",
      "execution_count": null,
      "metadata": {
        "id": "5PFQR6EXhMr9",
        "colab": {
          "base_uri": "https://localhost:8080/"
        },
        "outputId": "ff9164bf-66f1-436b-ddf2-5d46f612f15e"
      },
      "outputs": [
        {
          "output_type": "stream",
          "name": "stdout",
          "text": [
            "[41.51347826 -0.34088269]\n",
            "65.32391638894836\n",
            "預測新蛋糕店的單月銷量\n",
            "[442.96160353]\n",
            "模型績效\n",
            "印出模型績效\n",
            "417.3006119994701\n",
            "0.945235852681711\n",
            "0.929588953447914\n",
            "印出 p-value\n",
            "[0.00051435 0.00844837]\n"
          ]
        }
      ],
      "source": [
        "import numpy as np\n",
        "from sklearn.linear_model import LinearRegression\n",
        "from sklearn.feature_selection import f_regression\n",
        "\n",
        "X = np.array([\n",
        "    [10, 80], [8, 0], [8, 200], [5, 200], [7, 300], [8, 230], [7, 40], [9, 0], [6, 330], [9, 180]\n",
        "])\n",
        "y = np.array([469, 366, 371, 208, 246, 297, 363, 436, 198, 364])\n",
        "\n",
        "lm = LinearRegression()\n",
        "lm.fit(X, y)\n",
        "\n",
        "# 印出係數\n",
        "print(lm.coef_)\n",
        "\n",
        "# 印出截距\n",
        "print(lm.intercept_ )\n",
        "\n",
        "# 新蛋糕店資料\n",
        "to_be_predicted = np.array([\n",
        "    [10, 110]\n",
        "])\n",
        "predicted_sales = lm.predict(to_be_predicted)\n",
        "\n",
        "print('預測新蛋糕店的單月銷量')\n",
        "print(predicted_sales)\n",
        "\n",
        "print('模型績效')\n",
        "mse = np.mean((lm.predict(X) - y) ** 2)\n",
        "r_squared = lm.score(X, y)\n",
        "adj_r_squared = r_squared - (1 - r_squared) * (X.shape[1] / (X.shape[0] - X.shape[1] - 1))\n",
        "\n",
        "\n",
        "\n",
        "print('印出模型績效')\n",
        "print(mse)\n",
        "print(r_squared)\n",
        "print(adj_r_squared)\n",
        "\n",
        "\n",
        "print('印出 p-value')\n",
        "print(f_regression(X, y)[1])"
      ]
    },
    {
      "cell_type": "code",
      "source": [
        "import pandas as pd\n",
        "import numpy as np\n",
        "from sklearn import preprocessing, linear_model\n",
        "\n",
        "csv_path='/content/TitanicDataset.csv'\n",
        "\n",
        "import os\n",
        "cwd = os.getcwd()\n",
        "print(cwd)\n",
        "df=pd.read_csv(csv_path)  \n",
        "print(df.head(5))"
      ],
      "metadata": {
        "colab": {
          "base_uri": "https://localhost:8080/"
        },
        "id": "Rg5ppeE9q3F1",
        "outputId": "66a5306a-8440-4960-cd5e-7df73dcb12a3"
      },
      "execution_count": null,
      "outputs": [
        {
          "output_type": "stream",
          "name": "stdout",
          "text": [
            "/content\n",
            "   PassengerId  Survived  Pclass  \\\n",
            "0          892         0       3   \n",
            "1          893         1       3   \n",
            "2          894         0       2   \n",
            "3          895         0       3   \n",
            "4          896         1       3   \n",
            "\n",
            "                                           Name     Sex   Age  SibSp  Parch  \\\n",
            "0                              Kelly, Mr. James    male  34.5      0      0   \n",
            "1              Wilkes, Mrs. James (Ellen Needs)  female  47.0      1      0   \n",
            "2                     Myles, Mr. Thomas Francis    male  62.0      0      0   \n",
            "3                              Wirz, Mr. Albert    male  27.0      0      0   \n",
            "4  Hirvonen, Mrs. Alexander (Helga E Lindqvist)  female  22.0      1      1   \n",
            "\n",
            "    Ticket     Fare Cabin Embarked  \n",
            "0   330911   7.8292   NaN        Q  \n",
            "1   363272   7.0000   NaN        S  \n",
            "2   240276   9.6875   NaN        Q  \n",
            "3   315154   8.6625   NaN        S  \n",
            "4  3101298  12.2875   NaN        S  \n"
          ]
        }
      ]
    },
    {
      "cell_type": "markdown",
      "source": [
        "# 新增區段"
      ],
      "metadata": {
        "id": "e1kBD39Cvo0T"
      }
    },
    {
      "cell_type": "code",
      "source": [
        ""
      ],
      "metadata": {
        "id": "X7Cnp6kVu5Zi"
      },
      "execution_count": null,
      "outputs": []
    }
  ]
}