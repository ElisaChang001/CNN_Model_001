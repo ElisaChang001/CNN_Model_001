{
 "cells": [
  {
   "cell_type": "code",
   "execution_count": 1,
   "metadata": {},
   "outputs": [],
   "source": [
    "# (0) setting for mac\n",
    "\n",
    "import os\n",
    "os.environ['KMP_DUPLICATE_LIB_OK']='True'"
   ]
  },
  {
   "cell_type": "code",
   "execution_count": 1,
   "metadata": {
    "scrolled": true
   },
   "outputs": [
    {
     "data": {
      "text/plain": [
       "'/Users/elisachang/20190416_test'"
      ]
     },
     "execution_count": 1,
     "metadata": {},
     "output_type": "execute_result"
    }
   ],
   "source": [
    "pwd"
   ]
  },
  {
   "cell_type": "code",
   "execution_count": 2,
   "metadata": {},
   "outputs": [],
   "source": [
    "# prepare dataset"
   ]
  },
  {
   "cell_type": "code",
   "execution_count": 6,
   "metadata": {
    "collapsed": true
   },
   "outputs": [
    {
     "name": "stdout",
     "output_type": "stream",
     "text": [
      "['/Users/HelloMina001/train/test_002/square_002_76.jpg', '/Users/HelloMina001/train/test_001/circle_001_58.jpg', '/Users/HelloMina001/train/test_002/square_001_12.jpg', '/Users/HelloMina001/train/test_002/square_002_27.jpg', '/Users/HelloMina001/train/test_003/triangle_002_66.jpg', '/Users/HelloMina001/train/test_001/circle_003_64.jpg', '/Users/HelloMina001/train/test_002/square_002_71.jpg', '/Users/HelloMina001/train/test_002/square_001_63.jpg', '/Users/HelloMina001/train/test_003/triangle_001_60.jpg', '/Users/HelloMina001/train/test_003/triangle_001_32.jpg', '/Users/HelloMina001/train/test_002/square_002_55.jpg', '/Users/HelloMina001/train/test_001/circle_003_60.jpg', '/Users/HelloMina001/train/test_001/circle_002_96.jpg', '/Users/HelloMina001/train/test_001/circle_002_91.jpg', '/Users/HelloMina001/train/test_003/triangle_002_93.jpg', '/Users/HelloMina001/train/test_003/triangle_003_77.jpg', '/Users/HelloMina001/train/test_003/triangle_001_20.jpg', '/Users/HelloMina001/train/test_001/circle_003_22.jpg', '/Users/HelloMina001/train/test_001/circle_001_89.jpg', '/Users/HelloMina001/train/test_001/circle_002_28.jpg', '/Users/HelloMina001/train/test_003/triangle_003_24.jpg', '/Users/HelloMina001/train/test_003/triangle_003_42.jpg', '/Users/HelloMina001/train/test_001/circle_001_48.jpg', '/Users/HelloMina001/train/test_003/triangle_001_28.jpg', '/Users/HelloMina001/train/test_001/circle_002_87.jpg', '/Users/HelloMina001/train/test_001/circle_001_76.jpg', '/Users/HelloMina001/train/test_001/circle_002_35.jpg', '/Users/HelloMina001/train/test_001/circle_001_9.jpg', '/Users/HelloMina001/train/test_002/square_003_46.jpg', '/Users/HelloMina001/train/test_001/circle_002_54.jpg', '/Users/HelloMina001/train/test_003/triangle_001_65.jpg', '/Users/HelloMina001/train/test_002/square_003_9.jpg', '/Users/HelloMina001/train/test_002/square_001_20.jpg', '/Users/HelloMina001/train/test_002/square_001_92.jpg', '/Users/HelloMina001/train/test_002/square_003_26.jpg', '/Users/HelloMina001/train/test_002/square_003_88.jpg', '/Users/HelloMina001/train/test_001/circle_001_82.jpg', '/Users/HelloMina001/train/test_002/square_003_90.jpg', '/Users/HelloMina001/train/test_003/triangle_002_83.jpg', '/Users/HelloMina001/train/test_001/circle_003_94.jpg', '/Users/HelloMina001/train/test_002/square_002_2.jpg', '/Users/HelloMina001/train/test_001/circle_001_14.jpg', '/Users/HelloMina001/train/test_001/circle_001_0.jpg', '/Users/HelloMina001/train/test_001/circle_002_17.jpg', '/Users/HelloMina001/train/test_003/triangle_002_61.jpg', '/Users/HelloMina001/train/test_003/triangle_003_92.jpg', '/Users/HelloMina001/train/test_003/triangle_001_98.jpg', '/Users/HelloMina001/train/test_002/square_002_63.jpg', '/Users/HelloMina001/train/test_002/square_003_58.jpg', '/Users/HelloMina001/train/test_003/triangle_002_40.jpg', '/Users/HelloMina001/train/test_002/square_001_1.jpg', '/Users/HelloMina001/train/test_003/triangle_002_47.jpg', '/Users/HelloMina001/train/test_001/circle_002_24.jpg', '/Users/HelloMina001/train/test_002/square_001_83.jpg', '/Users/HelloMina001/train/test_001/circle_002_72.jpg', '/Users/HelloMina001/train/test_003/triangle_003_43.jpg', '/Users/HelloMina001/train/test_002/square_003_35.jpg', '/Users/HelloMina001/train/test_001/circle_003_24.jpg', '/Users/HelloMina001/train/test_003/triangle_002_80.jpg', '/Users/HelloMina001/train/test_003/triangle_003_44.jpg', '/Users/HelloMina001/train/test_003/triangle_001_66.jpg', '/Users/HelloMina001/train/test_003/triangle_002_77.jpg', '/Users/HelloMina001/train/test_002/square_001_70.jpg', '/Users/HelloMina001/train/test_001/circle_002_64.jpg', '/Users/HelloMina001/train/test_002/square_002_90.jpg', '/Users/HelloMina001/train/test_001/circle_003_4.jpg', '/Users/HelloMina001/train/test_002/square_001_62.jpg', '/Users/HelloMina001/train/test_001/circle_001_26.jpg', '/Users/HelloMina001/train/test_003/triangle_003_22.jpg', '/Users/HelloMina001/train/test_002/square_002_20.jpg', '/Users/HelloMina001/train/test_003/triangle_001_81.jpg', '/Users/HelloMina001/train/test_002/square_002_87.jpg', '/Users/HelloMina001/train/test_001/circle_001_55.jpg', '/Users/HelloMina001/train/test_002/square_003_19.jpg', '/Users/HelloMina001/train/test_002/square_003_1.jpg', '/Users/HelloMina001/train/test_002/square_001_71.jpg', '/Users/HelloMina001/train/test_002/square_003_95.jpg', '/Users/HelloMina001/train/test_002/square_003_36.jpg', '/Users/HelloMina001/train/test_002/square_002_70.jpg', '/Users/HelloMina001/train/test_001/circle_003_13.jpg', '/Users/HelloMina001/train/test_001/circle_001_8.jpg', '/Users/HelloMina001/train/test_003/triangle_003_7.jpg', '/Users/HelloMina001/train/test_003/triangle_002_2.jpg', '/Users/HelloMina001/train/test_002/square_003_48.jpg', '/Users/HelloMina001/train/test_001/circle_001_52.jpg', '/Users/HelloMina001/train/test_001/circle_001_96.jpg', '/Users/HelloMina001/train/test_001/circle_001_22.jpg', '/Users/HelloMina001/train/test_002/square_003_85.jpg', '/Users/HelloMina001/train/test_002/square_001_76.jpg', '/Users/HelloMina001/train/test_003/triangle_002_30.jpg', '/Users/HelloMina001/train/test_001/circle_002_41.jpg', '/Users/HelloMina001/train/test_002/square_001_52.jpg', '/Users/HelloMina001/train/test_002/square_002_1.jpg', '/Users/HelloMina001/train/test_003/triangle_001_2.jpg', '/Users/HelloMina001/train/test_003/triangle_001_1.jpg', '/Users/HelloMina001/train/test_003/triangle_001_92.jpg', '/Users/HelloMina001/train/test_002/square_001_45.jpg', '/Users/HelloMina001/train/test_002/square_003_91.jpg', '/Users/HelloMina001/train/test_001/circle_003_49.jpg', '/Users/HelloMina001/train/test_003/triangle_002_36.jpg', '/Users/HelloMina001/train/test_003/triangle_003_78.jpg', '/Users/HelloMina001/train/test_003/triangle_003_58.jpg', '/Users/HelloMina001/train/test_002/square_002_4.jpg', '/Users/HelloMina001/train/test_002/square_003_69.jpg', '/Users/HelloMina001/train/test_001/circle_003_56.jpg', '/Users/HelloMina001/train/test_003/triangle_001_62.jpg', '/Users/HelloMina001/train/test_001/circle_001_54.jpg', '/Users/HelloMina001/train/test_002/square_003_41.jpg', '/Users/HelloMina001/train/test_003/triangle_001_79.jpg', '/Users/HelloMina001/train/test_001/circle_003_43.jpg', '/Users/HelloMina001/train/test_001/circle_001_56.jpg', '/Users/HelloMina001/train/test_002/square_001_64.jpg', '/Users/HelloMina001/train/test_001/circle_001_35.jpg', '/Users/HelloMina001/train/test_002/square_003_25.jpg', '/Users/HelloMina001/train/test_002/square_001_90.jpg', '/Users/HelloMina001/train/test_003/triangle_002_44.jpg', '/Users/HelloMina001/train/test_003/triangle_002_33.jpg', '/Users/HelloMina001/train/test_003/triangle_003_83.jpg', '/Users/HelloMina001/train/test_003/triangle_002_50.jpg', '/Users/HelloMina001/train/test_001/circle_002_74.jpg', '/Users/HelloMina001/train/test_002/square_001_82.jpg', '/Users/HelloMina001/train/test_003/triangle_003_40.jpg', '/Users/HelloMina001/train/test_003/triangle_001_56.jpg', '/Users/HelloMina001/train/test_002/square_003_17.jpg', '/Users/HelloMina001/train/test_001/circle_001_79.jpg', '/Users/HelloMina001/train/test_001/circle_002_40.jpg', '/Users/HelloMina001/train/test_003/triangle_003_55.jpg', '/Users/HelloMina001/train/test_003/triangle_003_53.jpg', '/Users/HelloMina001/train/test_003/triangle_001_47.jpg', '/Users/HelloMina001/train/test_001/circle_003_11.jpg', '/Users/HelloMina001/train/test_001/circle_002_52.jpg', '/Users/HelloMina001/train/test_003/triangle_001_46.jpg', '/Users/HelloMina001/train/test_003/triangle_001_33.jpg', '/Users/HelloMina001/train/test_001/circle_001_84.jpg', '/Users/HelloMina001/train/test_003/triangle_001_59.jpg', '/Users/HelloMina001/train/test_003/triangle_003_37.jpg', '/Users/HelloMina001/train/test_002/square_002_29.jpg', '/Users/HelloMina001/train/test_001/circle_003_78.jpg', '/Users/HelloMina001/train/test_001/circle_001_74.jpg', '/Users/HelloMina001/train/test_001/circle_002_63.jpg', '/Users/HelloMina001/train/test_001/circle_003_54.jpg', '/Users/HelloMina001/train/test_001/circle_002_99.jpg', '/Users/HelloMina001/train/test_002/square_003_32.jpg', '/Users/HelloMina001/train/test_001/circle_001_95.jpg', '/Users/HelloMina001/train/test_001/circle_003_86.jpg', '/Users/HelloMina001/train/test_002/square_002_16.jpg', '/Users/HelloMina001/train/test_002/square_002_46.jpg', '/Users/HelloMina001/train/test_001/circle_002_75.jpg', '/Users/HelloMina001/train/test_002/square_002_89.jpg', '/Users/HelloMina001/train/test_003/triangle_003_70.jpg', '/Users/HelloMina001/train/test_001/circle_002_89.jpg', '/Users/HelloMina001/train/test_002/square_001_57.jpg', '/Users/HelloMina001/train/test_001/circle_003_14.jpg', '/Users/HelloMina001/train/test_002/square_003_53.jpg', '/Users/HelloMina001/train/test_002/square_003_10.jpg', '/Users/HelloMina001/train/test_002/square_003_6.jpg', '/Users/HelloMina001/train/test_002/square_002_97.jpg', '/Users/HelloMina001/train/test_002/square_001_61.jpg', '/Users/HelloMina001/train/test_002/square_003_7.jpg', '/Users/HelloMina001/train/test_001/circle_001_62.jpg', '/Users/HelloMina001/train/test_003/triangle_001_4.jpg', '/Users/HelloMina001/train/test_001/circle_002_25.jpg', '/Users/HelloMina001/train/test_002/square_003_97.jpg', '/Users/HelloMina001/train/test_003/triangle_003_5.jpg', '/Users/HelloMina001/train/test_002/square_003_40.jpg', '/Users/HelloMina001/train/test_003/triangle_003_81.jpg', '/Users/HelloMina001/train/test_003/triangle_003_30.jpg', '/Users/HelloMina001/train/test_003/triangle_003_34.jpg', '/Users/HelloMina001/train/test_002/square_003_65.jpg', '/Users/HelloMina001/train/test_003/triangle_002_72.jpg', '/Users/HelloMina001/train/test_002/square_002_85.jpg', '/Users/HelloMina001/train/test_001/circle_002_19.jpg', '/Users/HelloMina001/train/test_003/triangle_001_38.jpg', '/Users/HelloMina001/train/test_003/triangle_003_61.jpg', '/Users/HelloMina001/train/test_001/circle_001_64.jpg', '/Users/HelloMina001/train/test_003/triangle_001_75.jpg', '/Users/HelloMina001/train/test_001/circle_002_94.jpg', '/Users/HelloMina001/train/test_003/triangle_003_79.jpg', '/Users/HelloMina001/train/test_003/triangle_003_54.jpg', '/Users/HelloMina001/train/test_002/square_003_21.jpg', '/Users/HelloMina001/train/test_003/triangle_001_76.jpg', '/Users/HelloMina001/train/test_003/triangle_001_80.jpg', '/Users/HelloMina001/train/test_003/triangle_002_92.jpg', '/Users/HelloMina001/train/test_001/circle_001_73.jpg', '/Users/HelloMina001/train/test_003/triangle_002_0.jpg', '/Users/HelloMina001/train/test_002/square_002_50.jpg', '/Users/HelloMina001/train/test_002/square_003_49.jpg', '/Users/HelloMina001/train/test_001/circle_003_80.jpg', '/Users/HelloMina001/train/test_001/circle_003_10.jpg', '/Users/HelloMina001/train/test_001/circle_003_90.jpg', '/Users/HelloMina001/train/test_001/circle_001_33.jpg', '/Users/HelloMina001/train/test_002/square_002_79.jpg', '/Users/HelloMina001/train/test_002/square_002_25.jpg', '/Users/HelloMina001/train/test_003/triangle_003_64.jpg', '/Users/HelloMina001/train/test_002/square_003_82.jpg', '/Users/HelloMina001/train/test_001/circle_001_25.jpg', '/Users/HelloMina001/train/test_002/square_001_37.jpg', '/Users/HelloMina001/train/test_001/circle_002_58.jpg', '/Users/HelloMina001/train/test_002/square_002_38.jpg', '/Users/HelloMina001/train/test_002/square_001_33.jpg', '/Users/HelloMina001/train/test_001/circle_001_3.jpg', '/Users/HelloMina001/train/test_002/square_003_51.jpg', '/Users/HelloMina001/train/test_002/square_003_93.jpg', '/Users/HelloMina001/train/test_001/circle_003_63.jpg', '/Users/HelloMina001/train/test_002/square_003_73.jpg', '/Users/HelloMina001/train/test_002/square_002_52.jpg', '/Users/HelloMina001/train/test_003/triangle_003_60.jpg', '/Users/HelloMina001/train/test_002/square_003_87.jpg', '/Users/HelloMina001/train/test_001/circle_003_96.jpg', '/Users/HelloMina001/train/test_003/triangle_002_29.jpg', '/Users/HelloMina001/train/test_002/square_001_15.jpg', '/Users/HelloMina001/train/test_001/circle_002_69.jpg', '/Users/HelloMina001/train/test_003/triangle_003_85.jpg', '/Users/HelloMina001/train/test_003/triangle_001_55.jpg', '/Users/HelloMina001/train/test_001/circle_002_9.jpg', '/Users/HelloMina001/train/test_002/square_003_64.jpg', '/Users/HelloMina001/train/test_003/triangle_003_74.jpg', '/Users/HelloMina001/train/test_003/triangle_001_57.jpg', '/Users/HelloMina001/train/test_003/triangle_003_8.jpg', '/Users/HelloMina001/train/test_001/circle_001_72.jpg', '/Users/HelloMina001/train/test_001/circle_001_37.jpg', '/Users/HelloMina001/train/test_001/circle_002_95.jpg', '/Users/HelloMina001/train/test_003/triangle_003_26.jpg', '/Users/HelloMina001/train/test_003/triangle_002_82.jpg', '/Users/HelloMina001/train/test_002/square_003_30.jpg', '/Users/HelloMina001/train/test_003/triangle_003_98.jpg', '/Users/HelloMina001/train/test_001/circle_003_67.jpg', '/Users/HelloMina001/train/test_003/triangle_002_91.jpg', '/Users/HelloMina001/train/test_003/triangle_002_18.jpg', '/Users/HelloMina001/train/test_002/square_003_43.jpg', '/Users/HelloMina001/train/test_002/square_001_39.jpg', '/Users/HelloMina001/train/test_003/triangle_003_46.jpg', '/Users/HelloMina001/train/test_001/circle_003_85.jpg', '/Users/HelloMina001/train/test_001/circle_003_38.jpg', '/Users/HelloMina001/train/test_003/triangle_002_21.jpg', '/Users/HelloMina001/train/test_001/circle_002_86.jpg', '/Users/HelloMina001/train/test_002/square_002_75.jpg', '/Users/HelloMina001/train/test_002/square_003_5.jpg', '/Users/HelloMina001/train/test_003/triangle_001_94.jpg', '/Users/HelloMina001/train/test_002/square_003_3.jpg', '/Users/HelloMina001/train/test_002/square_002_81.jpg', '/Users/HelloMina001/train/test_001/circle_002_21.jpg', '/Users/HelloMina001/train/test_003/triangle_001_3.jpg', '/Users/HelloMina001/train/test_002/square_002_3.jpg', '/Users/HelloMina001/train/test_003/triangle_002_87.jpg', '/Users/HelloMina001/train/test_003/triangle_001_8.jpg', '/Users/HelloMina001/train/test_001/circle_003_28.jpg', '/Users/HelloMina001/train/test_002/square_002_54.jpg', '/Users/HelloMina001/train/test_001/circle_002_34.jpg', '/Users/HelloMina001/train/test_003/triangle_001_27.jpg', '/Users/HelloMina001/train/test_001/circle_002_48.jpg', '/Users/HelloMina001/train/test_003/triangle_003_57.jpg', '/Users/HelloMina001/train/test_002/square_001_0.jpg', '/Users/HelloMina001/train/test_002/square_002_40.jpg', '/Users/HelloMina001/train/test_002/square_003_28.jpg', '/Users/HelloMina001/train/test_003/triangle_002_65.jpg', '/Users/HelloMina001/train/test_001/circle_002_93.jpg', '/Users/HelloMina001/train/test_002/square_001_79.jpg', '/Users/HelloMina001/train/test_002/square_002_11.jpg', '/Users/HelloMina001/train/test_003/triangle_001_99.jpg', '/Users/HelloMina001/train/test_003/triangle_003_29.jpg', '/Users/HelloMina001/train/test_002/square_001_5.jpg', '/Users/HelloMina001/train/test_003/triangle_001_49.jpg', '/Users/HelloMina001/train/test_001/circle_002_15.jpg', '/Users/HelloMina001/train/test_002/square_003_29.jpg', '/Users/HelloMina001/train/test_003/triangle_001_73.jpg', '/Users/HelloMina001/train/test_002/square_001_9.jpg', '/Users/HelloMina001/train/test_002/square_003_68.jpg', '/Users/HelloMina001/train/test_002/square_003_60.jpg', '/Users/HelloMina001/train/test_001/circle_002_55.jpg', '/Users/HelloMina001/train/test_002/square_001_93.jpg', '/Users/HelloMina001/train/test_002/square_003_72.jpg', '/Users/HelloMina001/train/test_001/circle_001_50.jpg', '/Users/HelloMina001/train/test_003/triangle_003_12.jpg', '/Users/HelloMina001/train/test_001/circle_002_13.jpg', '/Users/HelloMina001/train/test_002/square_001_13.jpg', '/Users/HelloMina001/train/test_003/triangle_003_84.jpg', '/Users/HelloMina001/train/test_001/circle_001_60.jpg', '/Users/HelloMina001/train/test_001/circle_002_12.jpg', '/Users/HelloMina001/train/test_001/circle_003_75.jpg', '/Users/HelloMina001/train/test_003/triangle_002_27.jpg', '/Users/HelloMina001/train/test_001/circle_003_62.jpg', '/Users/HelloMina001/train/test_003/triangle_002_11.jpg', '/Users/HelloMina001/train/test_003/triangle_001_35.jpg', '/Users/HelloMina001/train/test_001/circle_002_23.jpg', '/Users/HelloMina001/train/test_001/circle_001_32.jpg', '/Users/HelloMina001/train/test_001/circle_002_83.jpg', '/Users/HelloMina001/train/test_001/circle_002_97.jpg', '/Users/HelloMina001/train/test_002/square_002_59.jpg', '/Users/HelloMina001/train/test_001/circle_003_16.jpg', '/Users/HelloMina001/train/test_003/triangle_002_25.jpg', '/Users/HelloMina001/train/test_001/circle_002_11.jpg', '/Users/HelloMina001/train/test_001/circle_002_67.jpg', '/Users/HelloMina001/train/test_001/circle_003_3.jpg', '/Users/HelloMina001/train/test_003/triangle_001_9.jpg', '/Users/HelloMina001/train/test_003/triangle_001_71.jpg', '/Users/HelloMina001/train/test_001/circle_001_31.jpg', '/Users/HelloMina001/train/test_002/square_001_58.jpg', '/Users/HelloMina001/train/test_001/circle_003_68.jpg', '/Users/HelloMina001/train/test_003/triangle_003_76.jpg', '/Users/HelloMina001/train/test_003/triangle_002_71.jpg', '/Users/HelloMina001/train/test_001/circle_003_73.jpg', '/Users/HelloMina001/train/test_001/circle_001_36.jpg', '/Users/HelloMina001/train/test_003/triangle_001_69.jpg', '/Users/HelloMina001/train/test_003/triangle_003_27.jpg', '/Users/HelloMina001/train/test_001/circle_003_71.jpg', '/Users/HelloMina001/train/test_003/triangle_002_43.jpg', '/Users/HelloMina001/train/test_002/square_002_84.jpg', '/Users/HelloMina001/train/test_003/triangle_002_74.jpg', '/Users/HelloMina001/train/test_003/triangle_003_96.jpg', '/Users/HelloMina001/train/test_002/square_003_8.jpg', '/Users/HelloMina001/train/test_002/square_002_72.jpg', '/Users/HelloMina001/train/test_003/triangle_002_73.jpg', '/Users/HelloMina001/train/test_002/square_001_66.jpg', '/Users/HelloMina001/train/test_002/square_001_41.jpg', '/Users/HelloMina001/train/test_003/triangle_003_47.jpg', '/Users/HelloMina001/train/test_001/circle_003_34.jpg', '/Users/HelloMina001/train/test_001/circle_002_47.jpg', '/Users/HelloMina001/train/test_002/square_003_15.jpg', '/Users/HelloMina001/train/test_001/circle_001_40.jpg', '/Users/HelloMina001/train/test_002/square_003_61.jpg', '/Users/HelloMina001/train/test_002/square_003_79.jpg', '/Users/HelloMina001/train/test_001/circle_001_93.jpg', '/Users/HelloMina001/train/test_002/square_001_19.jpg', '/Users/HelloMina001/train/test_003/triangle_003_94.jpg', '/Users/HelloMina001/train/test_002/square_001_47.jpg', '/Users/HelloMina001/train/test_002/square_002_64.jpg', '/Users/HelloMina001/train/test_001/circle_002_7.jpg', '/Users/HelloMina001/train/test_003/triangle_001_14.jpg', '/Users/HelloMina001/train/test_003/triangle_001_61.jpg', '/Users/HelloMina001/train/test_001/circle_001_34.jpg', '/Users/HelloMina001/train/test_003/triangle_002_41.jpg', '/Users/HelloMina001/train/test_002/square_003_42.jpg', '/Users/HelloMina001/train/test_003/triangle_003_6.jpg', '/Users/HelloMina001/train/test_003/triangle_003_3.jpg', '/Users/HelloMina001/train/test_001/circle_003_57.jpg', '/Users/HelloMina001/train/test_002/square_002_91.jpg', '/Users/HelloMina001/train/test_002/square_001_97.jpg', '/Users/HelloMina001/train/test_002/square_001_87.jpg', '/Users/HelloMina001/train/test_002/square_002_94.jpg', '/Users/HelloMina001/train/test_002/square_001_59.jpg', '/Users/HelloMina001/train/test_003/triangle_002_1.jpg', '/Users/HelloMina001/train/test_002/square_003_11.jpg', '/Users/HelloMina001/train/test_001/circle_002_56.jpg', '/Users/HelloMina001/train/test_003/triangle_003_63.jpg', '/Users/HelloMina001/train/test_001/circle_003_74.jpg', '/Users/HelloMina001/train/test_003/triangle_001_5.jpg', '/Users/HelloMina001/train/test_003/triangle_003_14.jpg', '/Users/HelloMina001/train/test_002/square_002_49.jpg', '/Users/HelloMina001/train/test_001/circle_002_51.jpg', '/Users/HelloMina001/train/test_003/triangle_001_19.jpg', '/Users/HelloMina001/train/test_003/triangle_001_83.jpg', '/Users/HelloMina001/train/test_003/triangle_002_48.jpg', '/Users/HelloMina001/train/test_002/square_001_95.jpg', '/Users/HelloMina001/train/test_001/circle_001_81.jpg', '/Users/HelloMina001/train/test_003/triangle_001_58.jpg', '/Users/HelloMina001/train/test_002/square_003_96.jpg', '/Users/HelloMina001/train/test_003/triangle_001_87.jpg', '/Users/HelloMina001/train/test_001/circle_002_36.jpg', '/Users/HelloMina001/train/test_001/circle_003_48.jpg', '/Users/HelloMina001/train/test_001/circle_001_70.jpg', '/Users/HelloMina001/train/test_003/triangle_002_38.jpg', '/Users/HelloMina001/train/test_003/triangle_002_51.jpg', '/Users/HelloMina001/train/test_002/square_002_92.jpg', '/Users/HelloMina001/train/test_002/square_002_44.jpg', '/Users/HelloMina001/train/test_003/triangle_002_34.jpg', '/Users/HelloMina001/train/test_002/square_003_45.jpg', '/Users/HelloMina001/train/test_002/square_001_96.jpg', '/Users/HelloMina001/train/test_003/triangle_001_85.jpg', '/Users/HelloMina001/train/test_002/square_002_12.jpg', '/Users/HelloMina001/train/test_003/triangle_002_6.jpg', '/Users/HelloMina001/train/test_002/square_003_18.jpg', '/Users/HelloMina001/train/test_002/square_003_76.jpg', '/Users/HelloMina001/train/test_003/triangle_001_72.jpg', '/Users/HelloMina001/train/test_001/circle_001_42.jpg', '/Users/HelloMina001/train/test_001/circle_003_25.jpg', '/Users/HelloMina001/train/test_001/circle_003_98.jpg', '/Users/HelloMina001/train/test_001/circle_002_18.jpg', '/Users/HelloMina001/train/test_003/triangle_001_10.jpg', '/Users/HelloMina001/train/test_003/triangle_002_81.jpg', '/Users/HelloMina001/train/test_003/triangle_002_69.jpg', '/Users/HelloMina001/train/test_002/square_002_47.jpg', '/Users/HelloMina001/train/test_002/square_001_23.jpg', '/Users/HelloMina001/train/test_001/circle_002_26.jpg', '/Users/HelloMina001/train/test_002/square_001_72.jpg', '/Users/HelloMina001/train/test_001/circle_003_89.jpg', '/Users/HelloMina001/train/test_003/triangle_003_10.jpg', '/Users/HelloMina001/train/test_001/circle_001_18.jpg', '/Users/HelloMina001/train/test_003/triangle_003_20.jpg', '/Users/HelloMina001/train/test_001/circle_002_70.jpg', '/Users/HelloMina001/train/test_003/triangle_001_86.jpg', '/Users/HelloMina001/train/test_001/circle_001_38.jpg', '/Users/HelloMina001/train/test_001/circle_002_81.jpg', '/Users/HelloMina001/train/test_003/triangle_002_7.jpg', '/Users/HelloMina001/train/test_002/square_003_89.jpg', '/Users/HelloMina001/train/test_002/square_003_2.jpg', '/Users/HelloMina001/train/test_003/triangle_002_16.jpg', '/Users/HelloMina001/train/test_003/triangle_002_58.jpg', '/Users/HelloMina001/train/test_002/square_002_26.jpg', '/Users/HelloMina001/train/test_001/circle_002_27.jpg', '/Users/HelloMina001/train/test_003/triangle_001_16.jpg', '/Users/HelloMina001/train/test_003/triangle_002_39.jpg', '/Users/HelloMina001/train/test_001/circle_002_33.jpg', '/Users/HelloMina001/train/test_003/triangle_002_24.jpg', '/Users/HelloMina001/train/test_001/circle_001_88.jpg', '/Users/HelloMina001/train/test_003/triangle_002_3.jpg', '/Users/HelloMina001/train/test_003/triangle_001_7.jpg', '/Users/HelloMina001/train/test_001/circle_002_82.jpg', '/Users/HelloMina001/train/test_001/circle_003_23.jpg', '/Users/HelloMina001/train/test_001/circle_002_45.jpg', '/Users/HelloMina001/train/test_001/circle_003_76.jpg', '/Users/HelloMina001/train/test_003/triangle_003_23.jpg', '/Users/HelloMina001/train/test_001/circle_003_92.jpg', '/Users/HelloMina001/train/test_003/triangle_002_28.jpg', '/Users/HelloMina001/train/test_002/square_002_82.jpg', '/Users/HelloMina001/train/test_001/circle_002_66.jpg', '/Users/HelloMina001/train/test_001/circle_003_21.jpg', '/Users/HelloMina001/train/test_003/triangle_002_14.jpg', '/Users/HelloMina001/train/test_001/circle_001_49.jpg', '/Users/HelloMina001/train/test_001/circle_001_61.jpg', '/Users/HelloMina001/train/test_001/circle_001_23.jpg', '/Users/HelloMina001/train/test_001/circle_001_86.jpg', '/Users/HelloMina001/train/test_003/triangle_003_68.jpg', '/Users/HelloMina001/train/test_003/triangle_002_95.jpg', '/Users/HelloMina001/train/test_002/square_001_16.jpg', '/Users/HelloMina001/train/test_001/circle_003_50.jpg', '/Users/HelloMina001/train/test_002/square_003_62.jpg', '/Users/HelloMina001/train/test_003/triangle_003_67.jpg', '/Users/HelloMina001/train/test_001/circle_003_70.jpg', '/Users/HelloMina001/train/test_001/circle_003_33.jpg', '/Users/HelloMina001/train/test_002/square_003_33.jpg', '/Users/HelloMina001/train/test_002/square_001_36.jpg', '/Users/HelloMina001/train/test_001/circle_001_46.jpg', '/Users/HelloMina001/train/test_001/circle_002_3.jpg', '/Users/HelloMina001/train/test_003/triangle_003_21.jpg', '/Users/HelloMina001/train/test_001/circle_003_18.jpg', '/Users/HelloMina001/train/test_003/triangle_001_96.jpg', '/Users/HelloMina001/train/test_003/triangle_002_85.jpg', '/Users/HelloMina001/train/test_001/circle_002_2.jpg', '/Users/HelloMina001/train/test_002/square_003_38.jpg', '/Users/HelloMina001/train/test_001/circle_001_71.jpg', '/Users/HelloMina001/train/test_001/circle_002_16.jpg', '/Users/HelloMina001/train/test_001/circle_002_39.jpg', '/Users/HelloMina001/train/test_003/triangle_003_39.jpg', '/Users/HelloMina001/train/test_003/triangle_001_48.jpg', '/Users/HelloMina001/train/test_001/circle_003_44.jpg', '/Users/HelloMina001/train/test_003/triangle_002_84.jpg', '/Users/HelloMina001/train/test_003/triangle_003_25.jpg', '/Users/HelloMina001/train/test_001/circle_002_61.jpg', '/Users/HelloMina001/train/test_003/triangle_003_97.jpg', '/Users/HelloMina001/train/test_003/triangle_001_52.jpg', '/Users/HelloMina001/train/test_002/square_003_83.jpg', '/Users/HelloMina001/train/test_001/circle_001_68.jpg', '/Users/HelloMina001/train/test_002/square_001_50.jpg', '/Users/HelloMina001/train/test_003/triangle_002_26.jpg', '/Users/HelloMina001/train/test_001/circle_003_99.jpg', '/Users/HelloMina001/train/test_003/triangle_001_39.jpg', '/Users/HelloMina001/train/test_003/triangle_003_82.jpg', '/Users/HelloMina001/train/test_002/square_003_34.jpg', '/Users/HelloMina001/train/test_001/circle_003_53.jpg', '/Users/HelloMina001/train/test_001/circle_002_4.jpg', '/Users/HelloMina001/train/test_001/circle_003_88.jpg', '/Users/HelloMina001/train/test_001/circle_003_31.jpg', '/Users/HelloMina001/train/test_003/triangle_003_65.jpg', '/Users/HelloMina001/train/test_002/square_001_29.jpg', '/Users/HelloMina001/train/test_003/triangle_003_50.jpg', '/Users/HelloMina001/train/test_002/square_001_42.jpg', '/Users/HelloMina001/train/test_002/square_002_21.jpg', '/Users/HelloMina001/train/test_001/circle_001_51.jpg', '/Users/HelloMina001/train/test_002/square_001_65.jpg', '/Users/HelloMina001/train/test_001/circle_002_53.jpg', '/Users/HelloMina001/train/test_002/square_002_69.jpg', '/Users/HelloMina001/train/test_003/triangle_002_70.jpg', '/Users/HelloMina001/train/test_002/square_002_10.jpg', '/Users/HelloMina001/train/test_002/square_003_23.jpg', '/Users/HelloMina001/train/test_003/triangle_003_19.jpg', '/Users/HelloMina001/train/test_003/triangle_003_1.jpg', '/Users/HelloMina001/train/test_001/circle_001_21.jpg', '/Users/HelloMina001/train/test_001/circle_001_15.jpg', '/Users/HelloMina001/train/test_001/circle_001_97.jpg', '/Users/HelloMina001/train/test_003/triangle_002_62.jpg', '/Users/HelloMina001/train/test_002/square_001_67.jpg', '/Users/HelloMina001/train/test_003/triangle_001_40.jpg', '/Users/HelloMina001/train/test_003/triangle_002_64.jpg', '/Users/HelloMina001/train/test_001/circle_001_59.jpg', '/Users/HelloMina001/train/test_001/circle_002_43.jpg', '/Users/HelloMina001/train/test_001/circle_003_79.jpg', '/Users/HelloMina001/train/test_002/square_001_69.jpg', '/Users/HelloMina001/train/test_001/circle_003_9.jpg', '/Users/HelloMina001/train/test_001/circle_001_45.jpg', '/Users/HelloMina001/train/test_001/circle_001_91.jpg', '/Users/HelloMina001/train/test_002/square_001_75.jpg', '/Users/HelloMina001/train/test_001/circle_003_77.jpg', '/Users/HelloMina001/train/test_002/square_003_81.jpg', '/Users/HelloMina001/train/test_001/circle_002_92.jpg', '/Users/HelloMina001/train/test_001/circle_001_41.jpg', '/Users/HelloMina001/train/test_001/circle_002_31.jpg', '/Users/HelloMina001/train/test_001/circle_001_92.jpg', '/Users/HelloMina001/train/test_003/triangle_003_11.jpg', '/Users/HelloMina001/train/test_002/square_001_22.jpg', '/Users/HelloMina001/train/test_002/square_002_30.jpg', '/Users/HelloMina001/train/test_001/circle_002_77.jpg', '/Users/HelloMina001/train/test_003/triangle_003_52.jpg', '/Users/HelloMina001/train/test_001/circle_003_2.jpg', '/Users/HelloMina001/train/test_003/triangle_003_56.jpg', '/Users/HelloMina001/train/test_002/square_002_62.jpg', '/Users/HelloMina001/train/test_002/square_003_92.jpg', '/Users/HelloMina001/train/test_002/square_001_85.jpg', '/Users/HelloMina001/train/test_003/triangle_003_88.jpg', '/Users/HelloMina001/train/test_003/triangle_001_50.jpg', '/Users/HelloMina001/train/test_003/triangle_002_55.jpg', '/Users/HelloMina001/train/test_003/triangle_002_35.jpg', '/Users/HelloMina001/train/test_002/square_002_42.jpg', '/Users/HelloMina001/train/test_001/circle_001_28.jpg', '/Users/HelloMina001/train/test_003/triangle_002_63.jpg', '/Users/HelloMina001/train/test_002/square_001_68.jpg', '/Users/HelloMina001/train/test_003/triangle_003_91.jpg', '/Users/HelloMina001/train/test_001/circle_002_80.jpg', '/Users/HelloMina001/train/test_002/square_003_59.jpg', '/Users/HelloMina001/train/test_003/triangle_002_56.jpg', '/Users/HelloMina001/train/test_003/triangle_002_86.jpg', '/Users/HelloMina001/train/test_003/triangle_003_35.jpg', '/Users/HelloMina001/train/test_002/square_002_31.jpg', '/Users/HelloMina001/train/test_001/circle_002_57.jpg', '/Users/HelloMina001/train/test_003/triangle_001_30.jpg', '/Users/HelloMina001/train/test_002/square_003_14.jpg', '/Users/HelloMina001/train/test_002/square_003_39.jpg', '/Users/HelloMina001/train/test_003/triangle_002_20.jpg', '/Users/HelloMina001/train/test_001/circle_003_87.jpg', '/Users/HelloMina001/train/test_003/triangle_002_54.jpg', '/Users/HelloMina001/train/test_001/circle_002_10.jpg', '/Users/HelloMina001/train/test_001/circle_001_19.jpg', '/Users/HelloMina001/train/test_003/triangle_001_37.jpg', '/Users/HelloMina001/train/test_002/square_001_24.jpg', '/Users/HelloMina001/train/test_001/circle_002_42.jpg', '/Users/HelloMina001/train/test_002/square_001_88.jpg', '/Users/HelloMina001/train/test_002/square_002_74.jpg', '/Users/HelloMina001/train/test_003/triangle_002_53.jpg', '/Users/HelloMina001/train/test_003/triangle_002_12.jpg', '/Users/HelloMina001/train/test_003/triangle_003_49.jpg', '/Users/HelloMina001/train/test_002/square_002_17.jpg', '/Users/HelloMina001/train/test_003/triangle_001_6.jpg', '/Users/HelloMina001/train/test_003/triangle_001_23.jpg', '/Users/HelloMina001/train/test_002/square_002_77.jpg', '/Users/HelloMina001/train/test_001/circle_001_66.jpg', '/Users/HelloMina001/train/test_003/triangle_003_16.jpg', '/Users/HelloMina001/train/test_002/square_001_94.jpg', '/Users/HelloMina001/train/test_001/circle_002_1.jpg', '/Users/HelloMina001/train/test_003/triangle_001_24.jpg', '/Users/HelloMina001/train/test_002/square_003_47.jpg', '/Users/HelloMina001/train/test_003/triangle_002_23.jpg', '/Users/HelloMina001/train/test_003/triangle_003_99.jpg', '/Users/HelloMina001/train/test_002/square_002_14.jpg', '/Users/HelloMina001/train/test_001/circle_001_29.jpg', '/Users/HelloMina001/train/test_001/circle_003_30.jpg', '/Users/HelloMina001/train/test_002/square_003_0.jpg', '/Users/HelloMina001/train/test_003/triangle_003_4.jpg', '/Users/HelloMina001/train/test_003/triangle_001_88.jpg', '/Users/HelloMina001/train/test_002/square_002_35.jpg', '/Users/HelloMina001/train/test_002/square_002_45.jpg', '/Users/HelloMina001/train/test_002/square_001_80.jpg', '/Users/HelloMina001/train/test_002/square_002_8.jpg', '/Users/HelloMina001/train/test_002/square_001_91.jpg', '/Users/HelloMina001/train/test_001/circle_002_71.jpg', '/Users/HelloMina001/train/test_001/circle_003_37.jpg', '/Users/HelloMina001/train/test_002/square_001_2.jpg', '/Users/HelloMina001/train/test_001/circle_003_95.jpg', '/Users/HelloMina001/train/test_001/circle_001_6.jpg', '/Users/HelloMina001/train/test_002/square_001_27.jpg', '/Users/HelloMina001/train/test_002/square_001_3.jpg', '/Users/HelloMina001/train/test_001/circle_002_62.jpg', '/Users/HelloMina001/train/test_003/triangle_001_64.jpg', '/Users/HelloMina001/train/test_002/square_002_60.jpg', '/Users/HelloMina001/train/test_001/circle_003_52.jpg', '/Users/HelloMina001/train/test_001/circle_001_94.jpg', '/Users/HelloMina001/train/test_001/circle_001_99.jpg', '/Users/HelloMina001/train/test_002/square_002_34.jpg', '/Users/HelloMina001/train/test_001/circle_001_24.jpg', '/Users/HelloMina001/train/test_003/triangle_002_76.jpg', '/Users/HelloMina001/train/test_002/square_001_30.jpg', '/Users/HelloMina001/train/test_002/square_002_96.jpg', '/Users/HelloMina001/train/test_002/square_003_20.jpg', '/Users/HelloMina001/train/test_003/triangle_002_97.jpg', '/Users/HelloMina001/train/test_003/triangle_003_71.jpg', '/Users/HelloMina001/train/test_002/square_003_70.jpg', '/Users/HelloMina001/train/test_001/circle_001_1.jpg', '/Users/HelloMina001/train/test_001/circle_001_5.jpg', '/Users/HelloMina001/train/test_002/square_002_65.jpg', '/Users/HelloMina001/train/test_003/triangle_001_82.jpg', '/Users/HelloMina001/train/test_002/square_002_78.jpg', '/Users/HelloMina001/train/test_002/square_002_80.jpg', '/Users/HelloMina001/train/test_003/triangle_003_95.jpg', '/Users/HelloMina001/train/test_003/triangle_001_78.jpg', '/Users/HelloMina001/train/test_001/circle_001_12.jpg', '/Users/HelloMina001/train/test_003/triangle_002_78.jpg', '/Users/HelloMina001/train/test_003/triangle_003_0.jpg', '/Users/HelloMina001/train/test_001/circle_003_46.jpg', '/Users/HelloMina001/train/test_001/circle_002_6.jpg', '/Users/HelloMina001/train/test_003/triangle_001_31.jpg', '/Users/HelloMina001/train/test_001/circle_003_36.jpg', '/Users/HelloMina001/train/test_003/triangle_001_13.jpg', '/Users/HelloMina001/train/test_001/circle_002_50.jpg', '/Users/HelloMina001/train/test_002/square_002_99.jpg', '/Users/HelloMina001/train/test_003/triangle_002_88.jpg', '/Users/HelloMina001/train/test_003/triangle_002_8.jpg', '/Users/HelloMina001/train/test_002/square_001_14.jpg', '/Users/HelloMina001/train/test_002/square_003_50.jpg', '/Users/HelloMina001/train/test_003/triangle_001_70.jpg', '/Users/HelloMina001/train/test_001/circle_001_85.jpg', '/Users/HelloMina001/train/test_001/circle_002_22.jpg', '/Users/HelloMina001/train/test_003/triangle_002_46.jpg', '/Users/HelloMina001/train/test_001/circle_003_41.jpg', '/Users/HelloMina001/train/test_001/circle_003_32.jpg', '/Users/HelloMina001/train/test_002/square_001_40.jpg', '/Users/HelloMina001/train/test_002/square_002_88.jpg', '/Users/HelloMina001/train/test_003/triangle_001_51.jpg', '/Users/HelloMina001/train/test_002/square_003_66.jpg', '/Users/HelloMina001/train/test_001/circle_002_38.jpg', '/Users/HelloMina001/train/test_002/square_001_34.jpg', '/Users/HelloMina001/train/test_002/square_001_84.jpg', '/Users/HelloMina001/train/test_001/circle_001_47.jpg', '/Users/HelloMina001/train/test_001/circle_001_11.jpg', '/Users/HelloMina001/train/test_002/square_002_93.jpg', '/Users/HelloMina001/train/test_002/square_001_98.jpg', '/Users/HelloMina001/train/test_002/square_001_32.jpg', '/Users/HelloMina001/train/test_003/triangle_003_28.jpg', '/Users/HelloMina001/train/test_002/square_002_48.jpg', '/Users/HelloMina001/train/test_003/triangle_001_22.jpg', '/Users/HelloMina001/train/test_002/square_003_63.jpg', '/Users/HelloMina001/train/test_002/square_002_9.jpg', '/Users/HelloMina001/train/test_002/square_003_37.jpg', '/Users/HelloMina001/train/test_001/circle_001_63.jpg', '/Users/HelloMina001/train/test_002/square_002_67.jpg', '/Users/HelloMina001/train/test_002/square_001_18.jpg', '/Users/HelloMina001/train/test_001/circle_001_53.jpg', '/Users/HelloMina001/train/test_003/triangle_001_77.jpg', '/Users/HelloMina001/train/test_002/square_003_12.jpg', '/Users/HelloMina001/train/test_002/square_002_58.jpg', '/Users/HelloMina001/train/test_001/circle_001_43.jpg', '/Users/HelloMina001/train/test_001/circle_003_19.jpg', '/Users/HelloMina001/train/test_002/square_001_38.jpg', '/Users/HelloMina001/train/test_003/triangle_001_91.jpg', '/Users/HelloMina001/train/test_001/circle_002_59.jpg', '/Users/HelloMina001/train/test_002/square_001_60.jpg', '/Users/HelloMina001/train/test_003/triangle_003_45.jpg', '/Users/HelloMina001/train/test_003/triangle_001_54.jpg', '/Users/HelloMina001/train/test_002/square_003_94.jpg', '/Users/HelloMina001/train/test_001/circle_003_7.jpg', '/Users/HelloMina001/train/test_001/circle_001_17.jpg', '/Users/HelloMina001/train/test_002/square_001_99.jpg', '/Users/HelloMina001/train/test_003/triangle_001_90.jpg', '/Users/HelloMina001/train/test_001/circle_001_10.jpg', '/Users/HelloMina001/train/test_003/triangle_001_89.jpg', '/Users/HelloMina001/train/test_001/circle_002_60.jpg', '/Users/HelloMina001/train/test_002/square_002_18.jpg', '/Users/HelloMina001/train/test_003/triangle_003_31.jpg', '/Users/HelloMina001/train/test_001/circle_003_6.jpg', '/Users/HelloMina001/train/test_001/circle_001_44.jpg', '/Users/HelloMina001/train/test_003/triangle_001_34.jpg', '/Users/HelloMina001/train/test_003/triangle_003_59.jpg', '/Users/HelloMina001/train/test_001/circle_001_78.jpg', '/Users/HelloMina001/train/test_001/circle_002_79.jpg', '/Users/HelloMina001/train/test_002/square_001_6.jpg', '/Users/HelloMina001/train/test_003/triangle_002_10.jpg', '/Users/HelloMina001/train/test_003/triangle_003_41.jpg', '/Users/HelloMina001/train/test_003/triangle_001_0.jpg', '/Users/HelloMina001/train/test_003/triangle_001_18.jpg', '/Users/HelloMina001/train/test_003/triangle_003_9.jpg', '/Users/HelloMina001/train/test_001/circle_001_4.jpg', '/Users/HelloMina001/train/test_001/circle_002_14.jpg', '/Users/HelloMina001/train/test_003/triangle_003_2.jpg', '/Users/HelloMina001/train/test_002/square_001_81.jpg', '/Users/HelloMina001/train/test_003/triangle_003_38.jpg', '/Users/HelloMina001/train/test_003/triangle_003_90.jpg', '/Users/HelloMina001/train/test_003/triangle_001_93.jpg', '/Users/HelloMina001/train/test_002/square_003_67.jpg', '/Users/HelloMina001/train/test_001/circle_001_75.jpg', '/Users/HelloMina001/train/test_002/square_002_24.jpg', '/Users/HelloMina001/train/test_002/square_001_51.jpg', '/Users/HelloMina001/train/test_001/circle_001_57.jpg', '/Users/HelloMina001/train/test_002/square_001_7.jpg', '/Users/HelloMina001/train/test_002/square_001_10.jpg', '/Users/HelloMina001/train/test_001/circle_003_29.jpg', '/Users/HelloMina001/train/test_002/square_001_73.jpg', '/Users/HelloMina001/train/test_001/circle_001_69.jpg', '/Users/HelloMina001/train/test_001/circle_001_67.jpg', '/Users/HelloMina001/train/test_003/triangle_002_13.jpg', '/Users/HelloMina001/train/test_002/square_003_75.jpg', '/Users/HelloMina001/train/test_002/square_002_28.jpg', '/Users/HelloMina001/train/test_001/circle_002_8.jpg', '/Users/HelloMina001/train/test_001/circle_003_20.jpg', '/Users/HelloMina001/train/test_003/triangle_002_19.jpg', '/Users/HelloMina001/train/test_002/square_003_74.jpg', '/Users/HelloMina001/train/test_003/triangle_001_36.jpg', '/Users/HelloMina001/train/test_002/square_003_24.jpg', '/Users/HelloMina001/train/test_001/circle_003_97.jpg', '/Users/HelloMina001/train/test_002/square_002_7.jpg', '/Users/HelloMina001/train/test_001/circle_003_27.jpg', '/Users/HelloMina001/train/test_002/square_001_48.jpg', '/Users/HelloMina001/train/test_003/triangle_003_13.jpg', '/Users/HelloMina001/train/test_003/triangle_001_41.jpg', '/Users/HelloMina001/train/test_002/square_002_51.jpg', '/Users/HelloMina001/train/test_001/circle_001_16.jpg', '/Users/HelloMina001/train/test_002/square_002_22.jpg', '/Users/HelloMina001/train/test_003/triangle_001_12.jpg', '/Users/HelloMina001/train/test_002/square_001_56.jpg', '/Users/HelloMina001/train/test_003/triangle_002_31.jpg', '/Users/HelloMina001/train/test_003/triangle_001_97.jpg', '/Users/HelloMina001/train/test_002/square_001_11.jpg', '/Users/HelloMina001/train/test_001/circle_001_13.jpg', '/Users/HelloMina001/train/test_002/square_002_19.jpg', '/Users/HelloMina001/train/test_003/triangle_002_49.jpg', '/Users/HelloMina001/train/test_002/square_002_53.jpg', '/Users/HelloMina001/train/test_002/square_002_36.jpg', '/Users/HelloMina001/train/test_001/circle_001_30.jpg', '/Users/HelloMina001/train/test_003/triangle_002_5.jpg', '/Users/HelloMina001/train/test_003/triangle_003_75.jpg', '/Users/HelloMina001/train/test_002/square_003_52.jpg', '/Users/HelloMina001/train/test_002/square_001_53.jpg', '/Users/HelloMina001/train/test_003/triangle_003_93.jpg', '/Users/HelloMina001/train/test_001/circle_003_15.jpg', '/Users/HelloMina001/train/test_002/square_002_73.jpg', '/Users/HelloMina001/train/test_003/triangle_001_15.jpg', '/Users/HelloMina001/train/test_001/circle_001_80.jpg', '/Users/HelloMina001/train/test_001/circle_001_27.jpg', '/Users/HelloMina001/train/test_002/square_002_56.jpg', '/Users/HelloMina001/train/test_002/square_001_74.jpg', '/Users/HelloMina001/train/test_001/circle_001_98.jpg', '/Users/HelloMina001/train/test_001/circle_001_2.jpg', '/Users/HelloMina001/train/test_001/circle_003_12.jpg', '/Users/HelloMina001/train/test_001/circle_002_37.jpg', '/Users/HelloMina001/train/test_002/square_003_84.jpg', '/Users/HelloMina001/train/test_001/circle_003_26.jpg', '/Users/HelloMina001/train/test_002/square_001_35.jpg', '/Users/HelloMina001/train/test_002/square_001_54.jpg', '/Users/HelloMina001/train/test_001/circle_003_39.jpg', '/Users/HelloMina001/train/test_001/circle_003_42.jpg', '/Users/HelloMina001/train/test_002/square_001_43.jpg', '/Users/HelloMina001/train/test_002/square_003_16.jpg', '/Users/HelloMina001/train/test_001/circle_002_85.jpg', '/Users/HelloMina001/train/test_003/triangle_002_98.jpg', '/Users/HelloMina001/train/test_002/square_003_86.jpg', '/Users/HelloMina001/train/test_001/circle_002_90.jpg', '/Users/HelloMina001/train/test_002/square_001_17.jpg', '/Users/HelloMina001/train/test_002/square_001_25.jpg', '/Users/HelloMina001/train/test_001/circle_003_61.jpg', '/Users/HelloMina001/train/test_001/circle_003_51.jpg', '/Users/HelloMina001/train/test_001/circle_003_91.jpg', '/Users/HelloMina001/train/test_003/triangle_002_57.jpg', '/Users/HelloMina001/train/test_002/square_003_13.jpg', '/Users/HelloMina001/train/test_003/triangle_001_63.jpg', '/Users/HelloMina001/train/test_001/circle_001_77.jpg', '/Users/HelloMina001/train/test_003/triangle_002_32.jpg', '/Users/HelloMina001/train/test_001/circle_003_40.jpg', '/Users/HelloMina001/train/test_001/circle_003_1.jpg', '/Users/HelloMina001/train/test_003/triangle_003_86.jpg', '/Users/HelloMina001/train/test_001/circle_002_68.jpg', '/Users/HelloMina001/train/test_003/triangle_003_15.jpg', '/Users/HelloMina001/train/test_003/triangle_003_62.jpg', '/Users/HelloMina001/train/test_001/circle_002_0.jpg', '/Users/HelloMina001/train/test_002/square_002_15.jpg', '/Users/HelloMina001/train/test_001/circle_001_20.jpg', '/Users/HelloMina001/train/test_003/triangle_003_73.jpg', '/Users/HelloMina001/train/test_003/triangle_002_17.jpg', '/Users/HelloMina001/train/test_002/square_002_83.jpg', '/Users/HelloMina001/train/test_003/triangle_002_37.jpg', '/Users/HelloMina001/train/test_001/circle_003_55.jpg', '/Users/HelloMina001/train/test_003/triangle_003_17.jpg', '/Users/HelloMina001/train/test_002/square_001_21.jpg', '/Users/HelloMina001/train/test_001/circle_003_58.jpg', '/Users/HelloMina001/train/test_002/square_002_57.jpg', '/Users/HelloMina001/train/test_003/triangle_003_72.jpg', '/Users/HelloMina001/train/test_002/square_001_49.jpg', '/Users/HelloMina001/train/test_002/square_001_78.jpg', '/Users/HelloMina001/train/test_003/triangle_001_26.jpg', '/Users/HelloMina001/train/test_003/triangle_001_67.jpg', '/Users/HelloMina001/train/test_001/circle_002_78.jpg', '/Users/HelloMina001/train/test_003/triangle_002_94.jpg', '/Users/HelloMina001/train/test_003/triangle_001_53.jpg', '/Users/HelloMina001/train/test_002/square_001_31.jpg', '/Users/HelloMina001/train/test_002/square_002_32.jpg', '/Users/HelloMina001/train/test_001/circle_001_87.jpg', '/Users/HelloMina001/train/test_001/circle_002_46.jpg', '/Users/HelloMina001/train/test_002/square_003_44.jpg', '/Users/HelloMina001/train/test_003/triangle_001_95.jpg', '/Users/HelloMina001/train/test_003/triangle_001_21.jpg', '/Users/HelloMina001/train/test_003/triangle_002_60.jpg', '/Users/HelloMina001/train/test_002/square_003_56.jpg', '/Users/HelloMina001/train/test_002/square_001_26.jpg', '/Users/HelloMina001/train/test_003/triangle_002_9.jpg', '/Users/HelloMina001/train/test_003/triangle_001_11.jpg', '/Users/HelloMina001/train/test_002/square_003_99.jpg', '/Users/HelloMina001/train/test_001/circle_001_39.jpg', '/Users/HelloMina001/train/test_001/circle_003_0.jpg', '/Users/HelloMina001/train/test_002/square_003_80.jpg', '/Users/HelloMina001/train/test_002/square_002_39.jpg', '/Users/HelloMina001/train/test_001/circle_002_20.jpg', '/Users/HelloMina001/train/test_001/circle_002_29.jpg', '/Users/HelloMina001/train/test_003/triangle_002_90.jpg', '/Users/HelloMina001/train/test_001/circle_001_65.jpg', '/Users/HelloMina001/train/test_003/triangle_001_43.jpg', '/Users/HelloMina001/train/test_002/square_003_77.jpg', '/Users/HelloMina001/train/test_001/circle_002_88.jpg', '/Users/HelloMina001/train/test_003/triangle_003_89.jpg', '/Users/HelloMina001/train/test_002/square_003_54.jpg', '/Users/HelloMina001/train/test_001/circle_003_93.jpg', '/Users/HelloMina001/train/test_002/square_003_27.jpg', '/Users/HelloMina001/train/test_001/circle_002_30.jpg', '/Users/HelloMina001/train/test_003/triangle_003_33.jpg', '/Users/HelloMina001/train/test_002/square_002_6.jpg', '/Users/HelloMina001/train/test_002/square_001_46.jpg', '/Users/HelloMina001/train/test_001/circle_003_65.jpg', '/Users/HelloMina001/train/test_002/square_001_8.jpg', '/Users/HelloMina001/train/test_002/square_002_0.jpg', '/Users/HelloMina001/train/test_002/square_002_41.jpg', '/Users/HelloMina001/train/test_001/circle_002_5.jpg', '/Users/HelloMina001/train/test_001/circle_001_83.jpg', '/Users/HelloMina001/train/test_002/square_002_5.jpg', '/Users/HelloMina001/train/test_001/circle_002_65.jpg', '/Users/HelloMina001/train/test_003/triangle_003_87.jpg', '/Users/HelloMina001/train/test_003/triangle_003_80.jpg', '/Users/HelloMina001/train/test_001/circle_003_83.jpg', '/Users/HelloMina001/train/test_003/triangle_001_84.jpg', '/Users/HelloMina001/train/test_003/triangle_002_68.jpg', '/Users/HelloMina001/train/test_003/triangle_002_52.jpg', '/Users/HelloMina001/train/test_003/triangle_003_18.jpg', '/Users/HelloMina001/train/test_002/square_001_55.jpg', '/Users/HelloMina001/train/test_002/square_002_33.jpg', '/Users/HelloMina001/train/test_001/circle_002_49.jpg', '/Users/HelloMina001/train/test_003/triangle_002_4.jpg', '/Users/HelloMina001/train/test_002/square_002_13.jpg', '/Users/HelloMina001/train/test_002/square_003_55.jpg', '/Users/HelloMina001/train/test_002/square_001_44.jpg', '/Users/HelloMina001/train/test_003/triangle_003_36.jpg', '/Users/HelloMina001/train/test_001/circle_003_8.jpg', '/Users/HelloMina001/train/test_003/triangle_002_96.jpg', '/Users/HelloMina001/train/test_003/triangle_003_66.jpg', '/Users/HelloMina001/train/test_002/square_001_77.jpg', '/Users/HelloMina001/train/test_003/triangle_002_15.jpg', '/Users/HelloMina001/train/test_002/square_002_61.jpg', '/Users/HelloMina001/train/test_003/triangle_003_48.jpg', '/Users/HelloMina001/train/test_003/triangle_003_51.jpg', '/Users/HelloMina001/train/test_002/square_002_68.jpg', '/Users/HelloMina001/train/test_002/square_002_66.jpg', '/Users/HelloMina001/train/test_003/triangle_001_17.jpg', '/Users/HelloMina001/train/test_002/square_002_95.jpg', '/Users/HelloMina001/train/test_003/triangle_002_22.jpg', '/Users/HelloMina001/train/test_002/square_002_98.jpg', '/Users/HelloMina001/train/test_003/triangle_002_99.jpg', '/Users/HelloMina001/train/test_003/triangle_001_25.jpg', '/Users/HelloMina001/train/test_002/square_003_98.jpg', '/Users/HelloMina001/train/test_002/square_001_28.jpg', '/Users/HelloMina001/train/test_003/triangle_002_75.jpg', '/Users/HelloMina001/train/test_003/triangle_002_42.jpg', '/Users/HelloMina001/train/test_001/circle_003_81.jpg', '/Users/HelloMina001/train/test_003/triangle_001_74.jpg', '/Users/HelloMina001/train/test_003/triangle_002_59.jpg', '/Users/HelloMina001/train/test_001/circle_002_73.jpg', '/Users/HelloMina001/train/test_002/square_003_57.jpg', '/Users/HelloMina001/train/test_002/square_002_86.jpg', '/Users/HelloMina001/train/test_001/circle_003_45.jpg', '/Users/HelloMina001/train/test_003/triangle_002_89.jpg', '/Users/HelloMina001/train/test_002/square_001_89.jpg', '/Users/HelloMina001/train/test_001/circle_002_84.jpg', '/Users/HelloMina001/train/test_001/circle_003_17.jpg', '/Users/HelloMina001/train/test_001/circle_003_66.jpg', '/Users/HelloMina001/train/test_001/circle_002_32.jpg', '/Users/HelloMina001/train/test_001/circle_003_84.jpg', '/Users/HelloMina001/train/test_002/square_002_37.jpg', '/Users/HelloMina001/train/test_001/circle_002_44.jpg', '/Users/HelloMina001/train/test_001/circle_003_69.jpg', '/Users/HelloMina001/train/test_001/circle_001_7.jpg', '/Users/HelloMina001/train/test_002/square_002_43.jpg', '/Users/HelloMina001/train/test_003/triangle_001_44.jpg', '/Users/HelloMina001/train/test_001/circle_003_59.jpg', '/Users/HelloMina001/train/test_002/square_003_4.jpg', '/Users/HelloMina001/train/test_002/square_002_23.jpg', '/Users/HelloMina001/train/test_003/triangle_002_45.jpg', '/Users/HelloMina001/train/test_002/square_003_31.jpg', '/Users/HelloMina001/train/test_003/triangle_001_29.jpg', '/Users/HelloMina001/train/test_001/circle_003_47.jpg', '/Users/HelloMina001/train/test_001/circle_001_90.jpg', '/Users/HelloMina001/train/test_001/circle_002_98.jpg', '/Users/HelloMina001/train/test_002/square_003_71.jpg', '/Users/HelloMina001/train/test_003/triangle_003_32.jpg', '/Users/HelloMina001/train/test_001/circle_003_5.jpg', '/Users/HelloMina001/train/test_001/circle_003_72.jpg', '/Users/HelloMina001/train/test_001/circle_003_35.jpg', '/Users/HelloMina001/train/test_003/triangle_001_68.jpg', '/Users/HelloMina001/train/test_003/triangle_002_79.jpg', '/Users/HelloMina001/train/test_003/triangle_003_69.jpg', '/Users/HelloMina001/train/test_002/square_001_86.jpg', '/Users/HelloMina001/train/test_001/circle_002_76.jpg', '/Users/HelloMina001/train/test_001/circle_003_82.jpg', '/Users/HelloMina001/train/test_003/triangle_002_67.jpg', '/Users/HelloMina001/train/test_002/square_003_22.jpg', '/Users/HelloMina001/train/test_002/square_001_4.jpg', '/Users/HelloMina001/train/test_002/square_003_78.jpg', '/Users/HelloMina001/train/test_003/triangle_001_42.jpg', '/Users/HelloMina001/train/test_003/triangle_001_45.jpg'] [1, 0, 1, 1, 2, 0, 1, 1, 2, 2, 1, 0, 0, 0, 2, 2, 2, 0, 0, 0, 2, 2, 0, 2, 0, 0, 0, 0, 1, 0, 2, 1, 1, 1, 1, 1, 0, 1, 2, 0, 1, 0, 0, 0, 2, 2, 2, 1, 1, 2, 1, 2, 0, 1, 0, 2, 1, 0, 2, 2, 2, 2, 1, 0, 1, 0, 1, 0, 2, 1, 2, 1, 0, 1, 1, 1, 1, 1, 1, 0, 0, 2, 2, 1, 0, 0, 0, 1, 1, 2, 0, 1, 1, 2, 2, 2, 1, 1, 0, 2, 2, 2, 1, 1, 0, 2, 0, 1, 2, 0, 0, 1, 0, 1, 1, 2, 2, 2, 2, 0, 1, 2, 2, 1, 0, 0, 2, 2, 2, 0, 0, 2, 2, 0, 2, 2, 1, 0, 0, 0, 0, 0, 1, 0, 0, 1, 1, 0, 1, 2, 0, 1, 0, 1, 1, 1, 1, 1, 1, 0, 2, 0, 1, 2, 1, 2, 2, 2, 1, 2, 1, 0, 2, 2, 0, 2, 0, 2, 2, 1, 2, 2, 2, 0, 2, 1, 1, 0, 0, 0, 0, 1, 1, 2, 1, 0, 1, 0, 1, 1, 0, 1, 1, 0, 1, 1, 2, 1, 0, 2, 1, 0, 2, 2, 0, 1, 2, 2, 2, 0, 0, 0, 2, 2, 1, 2, 0, 2, 2, 1, 1, 2, 0, 0, 2, 0, 1, 1, 2, 1, 1, 0, 2, 1, 2, 2, 0, 1, 0, 2, 0, 2, 1, 1, 1, 2, 0, 1, 1, 2, 2, 1, 2, 0, 1, 2, 1, 1, 1, 0, 1, 1, 0, 2, 0, 1, 2, 0, 0, 0, 2, 0, 2, 2, 0, 0, 0, 0, 1, 0, 2, 0, 0, 0, 2, 2, 0, 1, 0, 2, 2, 0, 0, 2, 2, 0, 2, 1, 2, 2, 1, 1, 2, 1, 1, 2, 0, 0, 1, 0, 1, 1, 0, 1, 2, 1, 1, 0, 2, 2, 0, 2, 1, 2, 2, 0, 1, 1, 1, 1, 1, 2, 1, 0, 2, 0, 2, 2, 1, 0, 2, 2, 2, 1, 0, 2, 1, 2, 0, 0, 0, 2, 2, 1, 1, 2, 1, 1, 2, 1, 2, 1, 1, 2, 0, 0, 0, 0, 2, 2, 2, 1, 1, 0, 1, 0, 2, 0, 2, 0, 2, 0, 0, 2, 1, 1, 2, 2, 1, 0, 2, 2, 0, 2, 0, 2, 2, 0, 0, 0, 0, 2, 0, 2, 1, 0, 0, 2, 0, 0, 0, 0, 2, 2, 1, 0, 1, 2, 0, 0, 1, 1, 0, 0, 2, 0, 2, 2, 0, 1, 0, 0, 0, 2, 2, 0, 2, 2, 0, 2, 2, 1, 0, 1, 2, 0, 2, 2, 1, 0, 0, 0, 0, 2, 1, 2, 1, 1, 0, 1, 0, 1, 2, 1, 1, 2, 2, 0, 0, 0, 2, 1, 2, 2, 0, 0, 0, 1, 0, 0, 0, 1, 0, 1, 0, 0, 0, 0, 2, 1, 1, 0, 2, 0, 2, 1, 1, 1, 2, 2, 2, 2, 1, 0, 2, 1, 2, 0, 1, 2, 2, 2, 1, 0, 2, 1, 1, 2, 0, 2, 0, 0, 2, 1, 0, 1, 1, 2, 2, 2, 1, 2, 2, 1, 0, 2, 1, 0, 2, 1, 2, 2, 1, 0, 0, 1, 2, 2, 1, 1, 1, 1, 1, 0, 0, 1, 0, 0, 1, 1, 0, 2, 1, 0, 0, 0, 1, 0, 2, 1, 1, 1, 2, 2, 1, 0, 0, 1, 2, 1, 1, 2, 2, 0, 2, 2, 0, 0, 2, 0, 2, 0, 1, 2, 2, 1, 1, 2, 0, 0, 2, 0, 0, 1, 1, 2, 1, 0, 1, 1, 0, 0, 1, 1, 1, 2, 1, 2, 1, 1, 1, 0, 1, 1, 0, 2, 1, 1, 0, 0, 1, 2, 0, 1, 2, 2, 1, 0, 0, 1, 2, 0, 2, 0, 1, 2, 0, 0, 2, 2, 0, 0, 1, 2, 2, 2, 2, 2, 0, 0, 2, 1, 2, 2, 2, 1, 0, 1, 1, 0, 1, 1, 0, 1, 0, 0, 2, 1, 1, 0, 0, 2, 1, 2, 1, 0, 1, 0, 1, 2, 2, 1, 0, 1, 2, 1, 2, 2, 1, 0, 1, 2, 1, 1, 0, 2, 2, 1, 1, 2, 0, 1, 2, 0, 0, 1, 1, 0, 0, 0, 0, 1, 0, 1, 1, 0, 0, 1, 1, 0, 2, 1, 0, 1, 1, 0, 0, 0, 2, 1, 2, 0, 2, 0, 0, 2, 0, 2, 2, 0, 1, 0, 2, 2, 1, 2, 0, 2, 1, 0, 1, 2, 1, 1, 2, 2, 0, 2, 2, 1, 1, 0, 0, 1, 2, 2, 2, 1, 1, 2, 2, 1, 0, 0, 1, 1, 0, 0, 2, 0, 2, 1, 0, 2, 1, 0, 1, 0, 2, 1, 1, 0, 1, 1, 1, 0, 0, 1, 0, 2, 2, 0, 2, 2, 2, 2, 1, 1, 0, 2, 1, 1, 1, 2, 0, 2, 2, 1, 2, 1, 2, 2, 1, 1, 2, 1, 2, 1, 2, 2, 1, 1, 2, 2, 0, 2, 2, 0, 1, 1, 0, 2, 1, 0, 0, 0, 0, 0, 1, 0, 0, 0, 1, 2, 0, 1, 1, 2, 1, 2, 0, 0, 0, 1, 2, 0, 0, 0, 2, 2, 2, 1, 0, 0, 2, 1, 1, 1, 2, 2]\n"
     ]
    }
   ],
   "source": [
    "# （1） 希望各類別圖片數量一致 打亂順序\n",
    "#formal\n",
    "import os\n",
    "import random as r\n",
    "import numpy as np\n",
    "\n",
    "# def get_File(file_dir):\n",
    "\n",
    "# The images in each subfolder\n",
    "images = []\n",
    "    \n",
    "# The subfolders\n",
    "subfolders = []\n",
    " \n",
    "# Using \"os.walk\" function to grab all the files in each folder\n",
    "for dirPath, dirNames, fileNames in os.walk('/Users/HelloMina001/train/'):\n",
    "    \n",
    "    names = []\n",
    "    for name in fileNames:\n",
    "        names.append(os.path.join(dirPath, name))\n",
    "\n",
    "    for name in dirNames:\n",
    "        subfolders.append(os.path.join(dirPath, name))\n",
    "        \n",
    "    # 隨機打亂各個資料夾內的數據\n",
    "    r.shuffle(names)\n",
    "    if names != []:\n",
    "        images.append(names)\n",
    "         \n",
    "# 計算最小檔案數量的資料夾\n",
    "mincount = float(\"Inf\")\n",
    "for num_folder in subfolders:\n",
    "    n_img = len(os.listdir(num_folder))\n",
    "        \n",
    "    if n_img < mincount:\n",
    "        mincount = n_img\n",
    "    \n",
    "    # 只保留最小檔案數量\n",
    "for i in range(len(images)):\n",
    "    images[i] = images[i][0:mincount]\n",
    "    \n",
    "images = np.reshape(images, [mincount*len(subfolders), ])      #cannot reshape array of size 4 into shape (2700,)  你需要把test_create_pic多出來的檔案刪掉\n",
    "    \n",
    "# To record the labels of the image dataset\n",
    "labels = []\n",
    "for count in range(len(subfolders)):\n",
    "    labels = np.append(labels, mincount * [count])\n",
    "    \n",
    "# 打亂最後輸出的順序，去除每個類別間的隔閡\n",
    "subfolders = np.array([images, labels])\n",
    "subfolders = subfolders[:, np.random.permutation(subfolders.shape[1])].T\n",
    "    \n",
    "train_image_list = list(subfolders[:, 0])\n",
    "train_label_list = list(subfolders[:, 1])\n",
    "train_label_list = [int(float(i)) for i in train_label_list]\n",
    "print( train_image_list, train_label_list)\n",
    "# return image_list, label_list\n",
    "\n",
    "\n"
   ]
  },
  {
   "cell_type": "code",
   "execution_count": 7,
   "metadata": {},
   "outputs": [
    {
     "name": "stdout",
     "output_type": "stream",
     "text": [
      "[1, 0, 1, 1, 2, 0, 1, 1, 2, 2]\n",
      "0\n"
     ]
    }
   ],
   "source": [
    "# （2 check order is correct )\n",
    "# o:circle 1:square  2: triangle \n",
    "from PIL import *\n",
    "from PIL import Image         \n",
    "\n",
    "print(train_label_list[:10])        \n",
    "\n",
    "position=1\n",
    "x=train_image_list[position]\n",
    "# label_list\n",
    "\n",
    "img = Image.open(x)           \n",
    "img.show()\n",
    "\n",
    "print(train_label_list[position])"
   ]
  },
  {
   "cell_type": "code",
   "execution_count": 8,
   "metadata": {},
   "outputs": [
    {
     "name": "stdout",
     "output_type": "stream",
     "text": [
      "180\n",
      "180\n"
     ]
    }
   ],
   "source": [
    "# (3) create test data from train dataset \n",
    "# train 有900\n",
    "# test 有180\n",
    "\n",
    "\n",
    "test_label_list=train_label_list[:180]\n",
    "test_image_list=train_image_list[:180]\n",
    "\n",
    "\n",
    "print(len(test_label_list))\n",
    "print(len(test_image_list))"
   ]
  },
  {
   "cell_type": "code",
   "execution_count": 9,
   "metadata": {},
   "outputs": [
    {
     "name": "stdout",
     "output_type": "stream",
     "text": [
      "(900, 29, 43, 3)\n",
      "(180, 29, 43, 3)\n",
      "[[1]\n",
      " [0]\n",
      " [1]]\n",
      "[[1]\n",
      " [0]\n",
      " [1]]\n"
     ]
    }
   ],
   "source": [
    "# (4)\n",
    "# 創建出final dataset\n",
    "small_imgs = [Image.open(f).resize((43, 29)) for f in train_image_list]\n",
    "train_image_1 = np.array([np.array(img) for img in small_imgs])\n",
    "\n",
    "print(train_image_1.shape)      #(900, 29, 43, 3)\n",
    "\n",
    "\n",
    "small_imgs = [Image.open(f).resize((43, 29)) for f in test_image_list]\n",
    "test_image_1 = np.array([np.array(img) for img in small_imgs])\n",
    "\n",
    "print(test_image_1.shape)        #(180, 29, 43, 3)\n",
    "\n",
    "train_label_1=np.asarray(train_label_list)\n",
    "train_label_2=train_label_1.reshape((len(train_label_1),1))\n",
    "print(train_label_2[:3])\n",
    "\n",
    "\n",
    "test_label_1=np.asarray(test_label_list)\n",
    "test_label_2=test_label_1.reshape((len(test_label_1),1))\n",
    "print(test_label_2[:3])"
   ]
  },
  {
   "cell_type": "code",
   "execution_count": null,
   "metadata": {},
   "outputs": [],
   "source": [
    "# summary \n",
    "train_image_1\n",
    "train_label_2\n",
    "test_image_1\n",
    "test_label_2"
   ]
  },
  {
   "cell_type": "code",
   "execution_count": 10,
   "metadata": {},
   "outputs": [
    {
     "name": "stderr",
     "output_type": "stream",
     "text": [
      "Using TensorFlow backend.\n"
     ]
    }
   ],
   "source": [
    "# (5)\n",
    "import numpy as np\n",
    "np.random.seed(10)\n",
    "from keras.datasets import cifar10\n",
    "\n",
    "(x_train_image, y_train_label), (x_test_image, y_test_label)=cifar10.load_data()"
   ]
  },
  {
   "cell_type": "code",
   "execution_count": 11,
   "metadata": {},
   "outputs": [
    {
     "name": "stdout",
     "output_type": "stream",
     "text": [
      "(900, 29, 43, 3)\n",
      "(900, 1)\n",
      "(180, 29, 43, 3)\n",
      "(180, 1)\n"
     ]
    }
   ],
   "source": [
    "# (6) check formal datatype \n",
    "# print(x_train_image.shape)\n",
    "# print(x_test_image.shape)  \n",
    "# print(y_train_label.shape)\n",
    "# print(y_test_label.shape)  \n",
    "\n",
    "print(train_image_1.shape)\n",
    "print(train_label_2.shape)\n",
    "print(test_image_1.shape)\n",
    "print(test_label_2.shape)"
   ]
  },
  {
   "cell_type": "code",
   "execution_count": null,
   "metadata": {},
   "outputs": [],
   "source": [
    "# check \n",
    "# y_test_label"
   ]
  },
  {
   "cell_type": "code",
   "execution_count": 12,
   "metadata": {},
   "outputs": [
    {
     "name": "stdout",
     "output_type": "stream",
     "text": [
      "(900, 29, 43, 3)\n",
      "(180, 29, 43, 3)\n"
     ]
    }
   ],
   "source": [
    "# (7)Img資料預處理\n",
    "\n",
    "x_train_normalize=train_image_1.astype('float32')/255.0\n",
    "x_test_normalize=test_image_1.astype('float32')/255.0  \n",
    "print(x_train_normalize.shape)     #original:(50000, 32, 32, 3)\n",
    "print(x_test_normalize.shape)      #original:(10000, 32, 32, 3)  "
   ]
  },
  {
   "cell_type": "code",
   "execution_count": 13,
   "metadata": {},
   "outputs": [],
   "source": [
    "# (8)label資料預處理\n",
    "\n",
    "from keras.utils import np_utils\n",
    "y_train_onehot=np_utils.to_categorical(train_label_2)\n",
    "y_test_onehot=np_utils.to_categorical(test_label_2)"
   ]
  },
  {
   "cell_type": "code",
   "execution_count": 14,
   "metadata": {},
   "outputs": [],
   "source": [
    "# (9)\n",
    "from keras.models import Sequential  \n",
    "from keras.layers import Dense,Dropout,Flatten,Conv2D,MaxPooling2D  \n",
    "from keras.layers import ZeroPadding2D,Activation  "
   ]
  },
  {
   "cell_type": "code",
   "execution_count": null,
   "metadata": {},
   "outputs": [],
   "source": [
    "# tip \n",
    "#Sequential?     # 如何看函數的功用 shift +tab *2"
   ]
  },
  {
   "cell_type": "code",
   "execution_count": 15,
   "metadata": {},
   "outputs": [
    {
     "name": "stdout",
     "output_type": "stream",
     "text": [
      "WARNING:tensorflow:From /anaconda3/lib/python3.6/site-packages/keras/backend/tensorflow_backend.py:1264: calling reduce_prod (from tensorflow.python.ops.math_ops) with keep_dims is deprecated and will be removed in a future version.\n",
      "Instructions for updating:\n",
      "keep_dims is deprecated, use keepdims instead\n",
      "_________________________________________________________________\n",
      "Layer (type)                 Output Shape              Param #   \n",
      "=================================================================\n",
      "conv2d_1 (Conv2D)            (None, 29, 43, 32)        896       \n",
      "_________________________________________________________________\n",
      "dropout_1 (Dropout)          (None, 29, 43, 32)        0         \n",
      "_________________________________________________________________\n",
      "max_pooling2d_1 (MaxPooling2 (None, 14, 21, 32)        0         \n",
      "_________________________________________________________________\n",
      "conv2d_2 (Conv2D)            (None, 14, 21, 64)        18496     \n",
      "_________________________________________________________________\n",
      "dropout_2 (Dropout)          (None, 14, 21, 64)        0         \n",
      "_________________________________________________________________\n",
      "max_pooling2d_2 (MaxPooling2 (None, 7, 10, 64)         0         \n",
      "_________________________________________________________________\n",
      "flatten_1 (Flatten)          (None, 4480)              0         \n",
      "_________________________________________________________________\n",
      "dense_1 (Dense)              (None, 1024)              4588544   \n",
      "_________________________________________________________________\n",
      "dense_2 (Dense)              (None, 3)                 3075      \n",
      "=================================================================\n",
      "Total params: 4,611,011\n",
      "Trainable params: 4,611,011\n",
      "Non-trainable params: 0\n",
      "_________________________________________________________________\n"
     ]
    }
   ],
   "source": [
    "# (10)  建立cnn model\n",
    "model=Sequential()\n",
    "model.add(Conv2D(filters=32,                \n",
    "                 kernel_size=(3,3),         \n",
    "                 padding='same',            \n",
    "                 input_shape=(29,43,3),     \n",
    "                 activation='relu'))\n",
    "model.add(Dropout(0.25))                    #為了避免overfitting \n",
    "model.add(MaxPooling2D(pool_size=(2, 2)))\n",
    "model.add(Conv2D(filters=64,\n",
    "                 kernel_size=(3,3),\n",
    "                 padding='same',\n",
    "                 activation='relu'))\n",
    "model.add(Dropout(0.25))\n",
    "model.add(MaxPooling2D(pool_size=(2, 2)))\n",
    "#建立分類模型 MLP\n",
    "model.add(Flatten())\n",
    "# model.add(Dropout(0.25))\n",
    "model.add(Dense(1024,activation='relu'))\n",
    "# model.add(Dropout(0.25))\n",
    "model.add(Dense(3,activation='softmax'))      # 最後輸出label 有幾個就要寫多少 此案子是3\n",
    "model.summary()"
   ]
  },
  {
   "cell_type": "code",
   "execution_count": 16,
   "metadata": {
    "scrolled": true
   },
   "outputs": [
    {
     "name": "stdout",
     "output_type": "stream",
     "text": [
      "WARNING:tensorflow:From /anaconda3/lib/python3.6/site-packages/keras/backend/tensorflow_backend.py:2885: calling reduce_sum (from tensorflow.python.ops.math_ops) with keep_dims is deprecated and will be removed in a future version.\n",
      "Instructions for updating:\n",
      "keep_dims is deprecated, use keepdims instead\n",
      "WARNING:tensorflow:From /anaconda3/lib/python3.6/site-packages/keras/backend/tensorflow_backend.py:1349: calling reduce_mean (from tensorflow.python.ops.math_ops) with keep_dims is deprecated and will be removed in a future version.\n",
      "Instructions for updating:\n",
      "keep_dims is deprecated, use keepdims instead\n",
      "Train on 720 samples, validate on 180 samples\n",
      "Epoch 1/10\n",
      " - 14s - loss: 0.3361 - acc: 0.9222 - val_loss: 0.0046 - val_acc: 1.0000\n",
      "Epoch 2/10\n",
      " - 11s - loss: 6.4782e-05 - acc: 1.0000 - val_loss: 6.1823e-04 - val_acc: 1.0000\n",
      "Epoch 3/10\n",
      " - 11s - loss: 5.6664e-06 - acc: 1.0000 - val_loss: 4.3439e-04 - val_acc: 1.0000\n",
      "Epoch 4/10\n",
      " - 14s - loss: 3.7681e-06 - acc: 1.0000 - val_loss: 3.7338e-04 - val_acc: 1.0000\n",
      "Epoch 5/10\n",
      " - 12s - loss: 2.2989e-06 - acc: 1.0000 - val_loss: 2.7711e-04 - val_acc: 1.0000\n",
      "Epoch 6/10\n",
      " - 13s - loss: 1.2974e-06 - acc: 1.0000 - val_loss: 2.0668e-04 - val_acc: 1.0000\n",
      "Epoch 7/10\n",
      " - 14s - loss: 8.1766e-07 - acc: 1.0000 - val_loss: 1.6315e-04 - val_acc: 1.0000\n",
      "Epoch 8/10\n",
      " - 14s - loss: 5.3230e-07 - acc: 1.0000 - val_loss: 1.3398e-04 - val_acc: 1.0000\n",
      "Epoch 9/10\n",
      " - 15s - loss: 4.1119e-07 - acc: 1.0000 - val_loss: 1.1484e-04 - val_acc: 1.0000\n",
      "Epoch 10/10\n",
      " - 14s - loss: 3.1897e-07 - acc: 1.0000 - val_loss: 9.8860e-05 - val_acc: 1.0000\n"
     ]
    }
   ],
   "source": [
    "# (11)  計算loss\n",
    "# 有的時候一模一樣的code 就是第二次執行才會成功\n",
    "model.compile(loss='categorical_crossentropy',optimizer='adam',metrics=['accuracy'])\n",
    "\n",
    "train_history=model.fit(x=x_train_normalize, y=y_train_onehot, validation_split=0.2, epochs=10, batch_size=20,verbose=2)"
   ]
  },
  {
   "cell_type": "code",
   "execution_count": null,
   "metadata": {},
   "outputs": [],
   "source": [
    "# tip \n",
    "# 這裡通常會卡住"
   ]
  },
  {
   "cell_type": "code",
   "execution_count": 17,
   "metadata": {},
   "outputs": [],
   "source": [
    "# (12)\n",
    "def show_train_history(train_history):\n",
    "     fig=plt.gcf()\n",
    "     fig.set_size_inches(16, 6)\n",
    "     plt.subplot(121)\n",
    "     plt.plot(train_history.history[\"acc\"])\n",
    "     plt.plot(train_history.history[\"val_acc\"])\n",
    "     plt.title(\"Train History\")\n",
    "     plt.xlabel(\"Epoch\")\n",
    "     plt.ylabel(\"Accuracy\")\n",
    "     plt.legend([\"train\", \"validation\"], loc=\"upper left\")\n",
    "     plt.subplot(122)\n",
    "     plt.plot(train_history.history[\"loss\"])\n",
    "     plt.plot(train_history.history[\"val_loss\"])\n",
    "     plt.title(\"Train History\")\n",
    "     plt.xlabel(\"Epoch\")\n",
    "     plt.ylabel(\"Loss\")\n",
    "     plt.legend([\"train\", \"validation\"], loc=\"upper left\")\n",
    "     plt.show()"
   ]
  },
  {
   "cell_type": "code",
   "execution_count": 18,
   "metadata": {},
   "outputs": [
    {
     "data": {
      "text/plain": [
       "<Figure size 1600x600 with 2 Axes>"
      ]
     },
     "metadata": {},
     "output_type": "display_data"
    }
   ],
   "source": [
    "# (13)\n",
    "import matplotlib.pyplot as plt\n",
    "# show_train_history(train_history)"
   ]
  },
  {
   "cell_type": "code",
   "execution_count": 19,
   "metadata": {},
   "outputs": [
    {
     "data": {
      "image/png": "[encoded data removed]",
      "text/plain": [
       "<Figure size 1152x432 with 2 Axes>"
      ]
     },
     "metadata": {
      "needs_background": "light"
     },
     "output_type": "display_data"
    }
   ],
   "source": [
    "show_train_history(train_history)"
   ]
  },
  {
   "cell_type": "code",
   "execution_count": 20,
   "metadata": {},
   "outputs": [
    {
     "name": "stdout",
     "output_type": "stream",
     "text": [
      "180/180 [==============================] - 0s 1ms/step\n"
     ]
    }
   ],
   "source": [
    "scores=model.evaluate(x_test_normalize, y_test_onehot)"
   ]
  },
  {
   "cell_type": "code",
   "execution_count": 21,
   "metadata": {},
   "outputs": [
    {
     "name": "stdout",
     "output_type": "stream",
     "text": [
      "Accuracy= [9.655507520720777e-05, 1.0]\n"
     ]
    }
   ],
   "source": [
    "print(\"Accuracy=\", scores)"
   ]
  },
  {
   "cell_type": "code",
   "execution_count": 22,
   "metadata": {},
   "outputs": [],
   "source": [
    "prediction=model.predict_classes(x_test_normalize)  "
   ]
  },
  {
   "cell_type": "code",
   "execution_count": 25,
   "metadata": {},
   "outputs": [
    {
     "name": "stdout",
     "output_type": "stream",
     "text": [
      "[1 0 1]\n",
      "[[1]\n",
      " [0]\n",
      " [1]]\n"
     ]
    }
   ],
   "source": [
    "print(prediction[:3])  \n",
    "print(test_label_2[:3]) "
   ]
  },
  {
   "cell_type": "code",
   "execution_count": null,
   "metadata": {},
   "outputs": [],
   "source": []
  }
 ],
 "metadata": {
  "kernelspec": {
   "display_name": "Python 3",
   "language": "python",
   "name": "python3"
  },
  "language_info": {
   "codemirror_mode": {
    "name": "ipython",
    "version": 3
   },
   "file_extension": ".py",
   "mimetype": "text/x-python",
   "name": "python",
   "nbconvert_exporter": "python",
   "pygments_lexer": "ipython3",
   "version": "3.6.8"
  }
 },
 "nbformat": 4,
 "nbformat_minor": 2
}
